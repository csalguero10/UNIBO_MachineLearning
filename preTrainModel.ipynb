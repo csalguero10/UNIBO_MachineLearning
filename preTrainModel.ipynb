{
 "cells": [
  {
   "cell_type": "markdown",
   "metadata": {},
   "source": [
    "Pre-train models for Machine Vision:"
   ]
  },
  {
   "cell_type": "markdown",
   "metadata": {},
   "source": [
    "Several pre-trained architectures are widely used for machine vision tasks such as image classification, object detection, segmentation, and image generation. These architectures often serve as the backbone for transfer learning, where models pre-trained on large datasets (like ImageNet) are fine-tuned for specific tasks. Below are some of the most prominent pre-trained architectures:\n",
    "\n",
    "1. Convolutional Neural Networks (CNNs)\n",
    "CNNs are foundational for machine vision and have a wide range of pre-trained models that vary in depth, structure, and efficiency. Key architectures include:\n",
    "\n",
    "AlexNet (2012): One of the first deep CNNs to achieve groundbreaking results on ImageNet. It has five convolutional layers followed by fully connected layers.\n",
    "VGGNet (2014): Known for its simplicity and depth, VGG has 16 or 19 layers and uses 3x3 convolution filters. While accurate, it is computationally expensive.\n",
    "GoogLeNet/Inception (2015): This architecture introduces the inception module, which allows for multiple convolutions of different sizes in parallel, improving efficiency.\n",
    "ResNet (2015): ResNet introduced residual connections, allowing very deep networks (e.g., 50, 101, 152 layers) to be trained without suffering from vanishing gradients.\n",
    "DenseNet (2016): Builds on ResNet by using dense connections between layers, allowing each layer to directly access the feature maps from all preceding layers.\n",
    "2. Vision Transformers (ViTs)\n",
    "ViT (2020): A transformer architecture that treats image patches as a sequence of tokens, similar to how transformers process text. It has shown remarkable results on image classification tasks, often outperforming CNNs when trained on large datasets.\n",
    "DeiT (2021): A data-efficient variant of ViT that improves performance on smaller datasets by introducing additional techniques like knowledge distillation.\n",
    "3. EfficientNet (2019)\n",
    "EfficientNet is a family of models that scales network depth, width, and resolution in a balanced way to optimize accuracy and efficiency. It achieves state-of-the-art performance on many vision tasks while being computationally efficient. Variants include EfficientNet-B0 through EfficientNet-B7.\n",
    "\n",
    "4. YOLO (You Only Look Once)\n",
    "YOLO is a family of models designed for real-time object detection. There are several versions:\n",
    "\n",
    "YOLOv3 (2018): Achieves a good balance between speed and accuracy.\n",
    "YOLOv4 (2020) and YOLOv5 (2021): Introduce improvements in performance and scalability.\n",
    "YOLOv7 (2022): One of the most recent and efficient object detection models, with state-of-the-art real-time performance.\n",
    "5. Mask R-CNN (2017)\n",
    "Mask R-CNN is an extension of Faster R-CNN, which performs object detection and adds an additional branch for instance segmentation, making it capable of classifying objects and producing pixel-level masks for each detected object.\n",
    "\n",
    "6. Swin Transformer (2021)\n",
    "Swin Transformer is a vision transformer that employs a hierarchical design with shifted windows, improving both efficiency and scalability for tasks like object detection and segmentation. It integrates local context (like CNNs) while benefiting from global self-attention mechanisms.\n",
    "\n",
    "7. MobileNet (2017)\n",
    "MobileNet is designed for mobile and edge devices, where computational resources are limited. It uses depthwise separable convolutions to reduce the number of parameters and computational cost while maintaining accuracy.\n",
    "\n",
    "MobileNetV2 (2018) and MobileNetV3 (2019): Improved versions of MobileNet, with V3 being smaller and faster.\n",
    "8. EfficientDet (2020)\n",
    "EfficientDet builds on EfficientNet, using its architecture as the backbone for object detection. It employs a scalable detection framework that balances speed and accuracy, particularly useful for edge devices.\n",
    "\n",
    "9. SqueezeNet (2016)\n",
    "SqueezeNet is an extremely small CNN designed for efficiency, achieving AlexNet-level performance with fewer parameters. It uses fire modules, which combine 1x1 and 3x3 convolutions, to reduce the number of parameters.\n",
    "\n",
    "10. CLIP (Contrastive Language-Image Pretraining, 2021)\n",
    "CLIP is a multimodal model trained to understand both images and text. It can perform zero-shot learning, meaning it can classify images into categories without explicitly being trained on those categories by associating text descriptions with visual concepts.\n",
    "\n",
    "11. DALL·E and Stable Diffusion\n",
    "These are generative models trained to create images from text prompts. They employ transformer-based architectures to model the relationship between text and images."
   ]
  }
 ],
 "metadata": {
  "language_info": {
   "name": "python"
  }
 },
 "nbformat": 4,
 "nbformat_minor": 2
}
